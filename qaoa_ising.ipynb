{
 "cells": [
  {
   "cell_type": "code",
   "execution_count": 1,
   "id": "70265511",
   "metadata": {},
   "outputs": [],
   "source": [
    "import cirq\n",
    "import numpy as np\n",
    "from sympy import symbols\n",
    "import matplotlib.pyplot as plt\n",
    "import networkx as nx\n",
    "import openfermion as of\n",
    "from openfermion import get_ground_state\n",
    "from scipy.optimize import minimize"
   ]
  },
  {
   "cell_type": "code",
   "execution_count": 44,
   "id": "34aeb3e4",
   "metadata": {},
   "outputs": [],
   "source": [
    "def IsingHamiltonian(G,n,w):\n",
    "    A = G.edges\n",
    "    O = of.QubitOperator()\n",
    "    for e in A:\n",
    "        O += of.QubitOperator('Z' + str(e[0]) + ' ' +'Z' + str(e[1]), 1.0)\n",
    "\n",
    "    for x in range(n):\n",
    "        O += of.QubitOperator('Z' + str(x), w[x])\n",
    "\n",
    "    return O\n",
    "\n",
    "def QAOAQuantumCircuit(G, n, w, p):\n",
    "    A = G.edges\n",
    "    qubits = cirq.LineQubit.range(n)\n",
    "    qaoa = cirq.Circuit(cirq.H.on_each(qubits))\n",
    "    gamma = symbols('𝛄:'+str(p))\n",
    "    beta  = symbols('β:'+str(p))\n",
    "    \n",
    "    for x in range(p):\n",
    "        for e in A:\n",
    "            qaoa.append(cirq.ZZ(qubits[e[0]], qubits[e[1]])**gamma[x])\n",
    "\n",
    "        for v in range(n):\n",
    "            qaoa.append(cirq.Z(qubits[v])**(gamma[x] * w[v]))\n",
    "        \n",
    "        for row in qubits:\n",
    "            qaoa.append(cirq.X(row)**beta[x])\n",
    "    return qaoa\n"
   ]
  },
  {
   "cell_type": "code",
   "execution_count": 50,
   "id": "2a21654b",
   "metadata": {},
   "outputs": [],
   "source": [
    "#::: Parameters\n",
    "n = 4\n",
    "p = 1\n",
    "mu = 0.0\n",
    "h = np.random.random_sample(n)\n",
    "w = mu*h\n",
    "\n",
    "#::: Graph\n",
    "G = nx.cycle_graph(n)\n",
    "\n",
    "#::: Hamiltonian\n",
    "H = IsingHamiltonian(G,n,w)\n",
    "\n",
    "#::: Quantum Circuit\n",
    "qc = QAOAQuantumCircuit(G, n, w, p)\n",
    "\n",
    "def qaoa_exp(params):\n",
    "    d = {}\n",
    "    for x in range(p):\n",
    "        d.update({'𝛄'+str(x):params[x]})\n",
    "        d.update({'β'+str(x):params[x+p]})\n",
    "        \n",
    "    params = cirq.ParamResolver(d)  \n",
    "    results = cirq.Simulator().simulate(qc,param_resolver = params)\n",
    "    \n",
    "    return of.expectation(of.get_sparse_operator(H), results.final_state_vector).real\n",
    "\n",
    "\n",
    "res = minimize(qaoa_exp, \n",
    "               (2*np.pi)*np.random.random_sample((1, 2*p)), \n",
    "               method='COBYLA', \n",
    "               tol=1e-10)"
   ]
  },
  {
   "cell_type": "code",
   "execution_count": 58,
   "id": "f0199222",
   "metadata": {},
   "outputs": [
    {
     "name": "stdout",
     "output_type": "stream",
     "text": [
      "QAOA Minimum Energy: -1.9999998229465472\n",
      "Numerical Minimum Energy -4.0\n",
      "Ratio: 0.4999999557366368\n"
     ]
    }
   ],
   "source": [
    "qaoa_min = res.fun\n",
    "numerical_min = get_ground_state(of.get_sparse_operator(H))[0]\n",
    "print('QAOA Minimum Energy:', res.fun)\n",
    "print('Numerical Minimum Energy', numerical_min)\n",
    "print('Ratio:', qaoa_min/numerical_min)"
   ]
  }
 ],
 "metadata": {
  "kernelspec": {
   "display_name": "Python 3 (ipykernel)",
   "language": "python",
   "name": "python3"
  },
  "language_info": {
   "codemirror_mode": {
    "name": "ipython",
    "version": 3
   },
   "file_extension": ".py",
   "mimetype": "text/x-python",
   "name": "python",
   "nbconvert_exporter": "python",
   "pygments_lexer": "ipython3",
   "version": "3.9.8"
  }
 },
 "nbformat": 4,
 "nbformat_minor": 5
}
